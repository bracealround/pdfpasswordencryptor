{
  "nbformat": 4,
  "nbformat_minor": 0,
  "metadata": {
    "colab": {
      "name": "Adding_password_toPDF.ipynb",
      "provenance": [],
      "authorship_tag": "ABX9TyPamnevb0NPih3us3GkZ5ZV",
      "include_colab_link": true
    },
    "kernelspec": {
      "name": "python3",
      "display_name": "Python 3"
    }
  },
  "cells": [
    {
      "cell_type": "markdown",
      "metadata": {
        "id": "view-in-github",
        "colab_type": "text"
      },
      "source": [
        "<a href=\"https://colab.research.google.com/github/bracealround/pdfpasswordencryptor/blob/main/Adding_password_toPDF.ipynb\" target=\"_parent\"><img src=\"https://colab.research.google.com/assets/colab-badge.svg\" alt=\"Open In Colab\"/></a>"
      ]
    },
    {
      "cell_type": "code",
      "metadata": {
        "id": "ErYgstrdXJBH",
        "colab": {
          "base_uri": "https://localhost:8080/"
        },
        "outputId": "1cc7b59f-6e0e-4bf1-8d6c-af90d803e9f3"
      },
      "source": [
        "!pip install PyPDF2"
      ],
      "execution_count": 11,
      "outputs": [
        {
          "output_type": "stream",
          "text": [
            "Requirement already satisfied: PyPDF2 in /usr/local/lib/python3.6/dist-packages (1.26.0)\n"
          ],
          "name": "stdout"
        }
      ]
    },
    {
      "cell_type": "code",
      "metadata": {
        "id": "ptVHSGsIXNrU"
      },
      "source": [
        "from PyPDF2 import PdfFileReader,PdfFileWriter"
      ],
      "execution_count": 20,
      "outputs": []
    },
    {
      "cell_type": "markdown",
      "metadata": {
        "id": "86x6kkeEZI9_"
      },
      "source": [
        "Open Current PDF"
      ]
    },
    {
      "cell_type": "code",
      "metadata": {
        "colab": {
          "base_uri": "https://localhost:8080/"
        },
        "id": "hCvryhFiZGOk",
        "outputId": "92ec1631-c9c9-4915-8c82-7ace4d3b577e"
      },
      "source": [
        "input_pdf=PdfFileReader('/content/Chapter 1.pdf')\r\n",
        "input_pdf"
      ],
      "execution_count": 22,
      "outputs": [
        {
          "output_type": "execute_result",
          "data": {
            "text/plain": [
              "<PyPDF2.pdf.PdfFileReader at 0x7efbe4f94a90>"
            ]
          },
          "metadata": {
            "tags": []
          },
          "execution_count": 22
        }
      ]
    },
    {
      "cell_type": "markdown",
      "metadata": {
        "id": "FZsC75G3ZcFi"
      },
      "source": [
        "Output PDF"
      ]
    },
    {
      "cell_type": "code",
      "metadata": {
        "colab": {
          "base_uri": "https://localhost:8080/"
        },
        "id": "4z7LIicuZZ5R",
        "outputId": "8a0d1873-5877-467f-f212-bb7337858ff5"
      },
      "source": [
        "outputPDF=PdfFileWriter()\r\n",
        "outputPDF"
      ],
      "execution_count": 23,
      "outputs": [
        {
          "output_type": "execute_result",
          "data": {
            "text/plain": [
              "<PyPDF2.pdf.PdfFileWriter at 0x7efbe4f94240>"
            ]
          },
          "metadata": {
            "tags": []
          },
          "execution_count": 23
        }
      ]
    },
    {
      "cell_type": "code",
      "metadata": {
        "id": "NSh6F_2TacuB"
      },
      "source": [
        "for i in range (input_pdf.numPages):\r\n",
        "  pages=input_pdf.getPage(i)\r\n",
        "  outputPDF.addPage(pages)"
      ],
      "execution_count": 27,
      "outputs": []
    },
    {
      "cell_type": "code",
      "metadata": {
        "colab": {
          "base_uri": "https://localhost:8080/"
        },
        "id": "tmApX9tZdCVg",
        "outputId": "61c66c5d-8e0f-4420-a6dd-900dfb0959d2"
      },
      "source": [
        "password=input()"
      ],
      "execution_count": 28,
      "outputs": [
        {
          "output_type": "stream",
          "text": [
            "bd2010\n"
          ],
          "name": "stdout"
        }
      ]
    },
    {
      "cell_type": "code",
      "metadata": {
        "colab": {
          "base_uri": "https://localhost:8080/"
        },
        "id": "_kWtB8ROfDR0",
        "outputId": "d4644be8-3cdd-444f-f30d-9ad75ec5ec1c"
      },
      "source": [
        "outputfilename=input()"
      ],
      "execution_count": 30,
      "outputs": [
        {
          "output_type": "stream",
          "text": [
            "abcd\n"
          ],
          "name": "stdout"
        }
      ]
    },
    {
      "cell_type": "code",
      "metadata": {
        "id": "UQ2277zndewu"
      },
      "source": [
        "outputPDF.encrypt(password)"
      ],
      "execution_count": 29,
      "outputs": []
    },
    {
      "cell_type": "code",
      "metadata": {
        "id": "mRdp8cbze4t_"
      },
      "source": [
        "with open(outputfilename,\"wb\") as filename:\r\n",
        "  outputPDF.write(filename)\r\n"
      ],
      "execution_count": 36,
      "outputs": []
    },
    {
      "cell_type": "code",
      "metadata": {
        "id": "D-WwJ7zcfXqx"
      },
      "source": [
        ""
      ],
      "execution_count": null,
      "outputs": []
    }
  ]
}